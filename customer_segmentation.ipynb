{
 "cells": [
  {
   "cell_type": "code",
   "execution_count": null,
   "metadata": {},
   "outputs": [],
   "source": [
    "import pandas as pd\n",
    "import matplotlib.pyplot as plt\n",
    "import seaborn as sns\n",
    "\n",
    "from sklearn.cluster import KMeans\n",
    "from sklearn.metrics import silhouette_score\n",
    "from sklearn.preprocessing import StandardScaler\n",
    "\n",
    "\n",
    "# Setting to make numbers easier to read on display\n",
    "pd.options.display.float_format = \"{:20.2f}\".format\n",
    "\n",
    "# Show all columns on output\n",
    "pd.set_option(\"display.max_columns\", 999)"
   ]
  },
  {
   "cell_type": "markdown",
   "metadata": {},
   "source": [
    "# Data Exploration"
   ]
  },
  {
   "cell_type": "code",
   "execution_count": null,
   "metadata": {},
   "outputs": [],
   "source": [
    "df = pd.read_csv(\"online_retail_II.csv\")\n",
    "df.head(10)"
   ]
  },
  {
   "cell_type": "code",
   "execution_count": null,
   "metadata": {},
   "outputs": [],
   "source": [
    "df.info()"
   ]
  },
  {
   "cell_type": "code",
   "execution_count": null,
   "metadata": {},
   "outputs": [],
   "source": [
    "df.describe()"
   ]
  },
  {
   "cell_type": "code",
   "execution_count": null,
   "metadata": {},
   "outputs": [],
   "source": [
    "df.describe(include=[object])"
   ]
  },
  {
   "cell_type": "code",
   "execution_count": null,
   "metadata": {},
   "outputs": [],
   "source": [
    "df[df[\"Customer ID\"].isna()].head(10)"
   ]
  },
  {
   "cell_type": "code",
   "execution_count": null,
   "metadata": {},
   "outputs": [],
   "source": [
    "print(df.shape)"
   ]
  },
  {
   "cell_type": "code",
   "execution_count": null,
   "metadata": {},
   "outputs": [],
   "source": [
    "df[df[\"Quantity\"] < 0].head(4)"
   ]
  },
  {
   "cell_type": "code",
   "execution_count": null,
   "metadata": {},
   "outputs": [],
   "source": [
    "print(df[df[\"Quantity\"] < 0 ].shape)"
   ]
  },
  {
   "cell_type": "code",
   "execution_count": null,
   "metadata": {},
   "outputs": [],
   "source": [
    "df.columns"
   ]
  },
  {
   "cell_type": "code",
   "execution_count": null,
   "metadata": {},
   "outputs": [],
   "source": [
    "df[\"Invoice\"] = df[\"Invoice\"].astype(str)\n",
    "df[df[\"Invoice\"].str.match(\"^\\\\d{6}$\") == True]"
   ]
  },
  {
   "cell_type": "code",
   "execution_count": null,
   "metadata": {},
   "outputs": [],
   "source": [
    "df[df[\"Invoice\"].str.match(\"^\\\\d{6}$\") == False]"
   ]
  },
  {
   "cell_type": "code",
   "execution_count": null,
   "metadata": {},
   "outputs": [],
   "source": [
    "df[\"Invoice\"].str.replace(\"[0-9]\",\"\",regex = True).unique()"
   ]
  },
  {
   "cell_type": "code",
   "execution_count": null,
   "metadata": {},
   "outputs": [],
   "source": [
    "df[df[\"Invoice\"].str.startswith(\"A\")]"
   ]
  },
  {
   "cell_type": "code",
   "execution_count": null,
   "metadata": {},
   "outputs": [],
   "source": [
    "df[\"StockCode\"] = df[\"StockCode\"].astype(\"str\")\n",
    "df[df[\"StockCode\"].str.match(\"^\\\\d{5}$\") == True]"
   ]
  },
  {
   "cell_type": "code",
   "execution_count": null,
   "metadata": {},
   "outputs": [],
   "source": [
    "df[df[\"StockCode\"].str.match(\"^\\\\d{5}$\") == False]"
   ]
  },
  {
   "cell_type": "code",
   "execution_count": null,
   "metadata": {},
   "outputs": [],
   "source": [
    "df[(df[\"StockCode\"].str.match(\"^\\\\d{5}$\") == False ) & (df[\"StockCode\"].str.match(\"^\\\\d{5}[a-zA-Z]+$\") == False)][\"StockCode\"].unique()"
   ]
  },
  {
   "cell_type": "code",
   "execution_count": null,
   "metadata": {},
   "outputs": [],
   "source": [
    "df[df[\"StockCode\"].str.contains(\"^CRUK\")]"
   ]
  },
  {
   "cell_type": "markdown",
   "metadata": {},
   "source": [
    "# Stock Code\n",
    "### . StockCode is meant to follow the pattern [0-9]{5} but seens to have legit values for [0-9]{5}[a-zA-Z]+\n",
    "\n",
    "#### Also contians other values\n",
    "| Code              | Description | Action |\n",
    "| :---------------- | :------ | ----: |\n",
    "| DCGS              |  Looks valid, some quantities are negative though and customer ID is null    | Exclude from clustering |\n",
    "| D                 | Looks valid, represents discount values   | Exclude from clustering |\n",
    "| DOT               | Looks valid, represents postage charge  | Exclude from clustering |\n",
    "| M or m            | Looks valid, represents manual transactions   | Exclude from clustering|\n",
    "| C2                | Carriage transaction - not sure what this means|Exclude from clustering|\n",
    "| C3|Not sure, only 1 transaction| Exclude |\n",
    "| BANK CHARGES or B| BAnk charges| Exclude |\n",
    "|S| Samples sent to customer | EXclude from clustering |\n",
    "|TESTXXX| Testing data, not valid|Exclude|\n",
    "|gift_XXX|Purchase wit gift cards, might be interesting for another analysis, but no customer data| Exclude|\n",
    "|PADS|Looks like aslegit stock code for padding|Include|\n",
    "|SP1002|Looks like a special request item, only 2 transactions, 3 look legit, 1 has 0 pricing| Exclude for now|\n",
    "|AMAZONFEE|Looks like fees for Amazon shipping or something|EXclude for now|\n",
    "|ADJUST|Looks like manual account adjustments by admins|Exclude|\n"
   ]
  },
  {
   "cell_type": "code",
   "execution_count": null,
   "metadata": {},
   "outputs": [],
   "source": [
    "df[df[\"StockCode\"].str.contains(\"^PADS\")]"
   ]
  },
  {
   "cell_type": "code",
   "execution_count": null,
   "metadata": {},
   "outputs": [],
   "source": [
    "df[df[\"StockCode\"].str.contains(\"^BANK CHARGES\")]"
   ]
  },
  {
   "cell_type": "code",
   "execution_count": null,
   "metadata": {},
   "outputs": [],
   "source": [
    " df[(df[\"StockCode\"].str.match(\"^\\\\d{5}$\") == False ) & (df[\"StockCode\"].str.match(\"^\\\\d{5}[a-zA-Z]+$\") == False)][\"StockCode\"].unique()"
   ]
  },
  {
   "cell_type": "markdown",
   "metadata": {},
   "source": [
    "# Data Cleaning"
   ]
  },
  {
   "cell_type": "code",
   "execution_count": null,
   "metadata": {},
   "outputs": [],
   "source": [
    "cleaned_df = df.copy()\n",
    "cleaned_df"
   ]
  },
  {
   "cell_type": "code",
   "execution_count": null,
   "metadata": {},
   "outputs": [],
   "source": [
    "cleaned_df[\"Invoice\"] = cleaned_df[\"Invoice\"].astype(\"str\")\n",
    "mask = (\n",
    "    cleaned_df[\"Invoice\"].str.match(\"^\\\\d{6}$\") == True\n",
    ")\n",
    "cleaned_df = cleaned_df[mask]\n",
    "cleaned_df"
   ]
  },
  {
   "cell_type": "code",
   "execution_count": null,
   "metadata": {},
   "outputs": [],
   "source": [
    "cleaned_df[\"StockCode\"] = cleaned_df[\"StockCode\"].astype(\"str\")\n",
    "\n",
    "mask = (\n",
    "    (cleaned_df[\"StockCode\"].str.match(\"^\\\\d{5}$\")== True)\n",
    "    |(cleaned_df[\"StockCode\"].str.match(\"^\\\\d{5}[a-zA-Z]+$\")== True)\n",
    "    |(cleaned_df[\"StockCode\"].str.match(\"^PADS$\")== True)\n",
    ")\n",
    "\n",
    "cleaned_df = cleaned_df[mask]\n",
    "cleaned_df"
   ]
  },
  {
   "cell_type": "code",
   "execution_count": null,
   "metadata": {},
   "outputs": [],
   "source": [
    "cleaned_df.describe()"
   ]
  },
  {
   "cell_type": "code",
   "execution_count": null,
   "metadata": {},
   "outputs": [],
   "source": [
    "cleaned_df.dropna(subset=[\"Customer ID\"], inplace=True)"
   ]
  },
  {
   "cell_type": "code",
   "execution_count": null,
   "metadata": {},
   "outputs": [],
   "source": [
    "cleaned_df.describe()"
   ]
  },
  {
   "cell_type": "code",
   "execution_count": null,
   "metadata": {},
   "outputs": [],
   "source": [
    "len(cleaned_df[cleaned_df[\"Price\"] == 0])"
   ]
  },
  {
   "cell_type": "code",
   "execution_count": null,
   "metadata": {},
   "outputs": [],
   "source": [
    "cleaned_df = cleaned_df[cleaned_df[\"Price\"] > 0.0]"
   ]
  },
  {
   "cell_type": "code",
   "execution_count": null,
   "metadata": {},
   "outputs": [],
   "source": [
    "cleaned_df.describe()"
   ]
  },
  {
   "cell_type": "code",
   "execution_count": null,
   "metadata": {},
   "outputs": [],
   "source": [
    "cleaned_df[\"Price\"].min()"
   ]
  },
  {
   "cell_type": "code",
   "execution_count": null,
   "metadata": {},
   "outputs": [],
   "source": [
    "len(cleaned_df) / len(df)"
   ]
  },
  {
   "cell_type": "markdown",
   "metadata": {},
   "source": [
    "### Droppped about 25% data during data cleaning process"
   ]
  },
  {
   "cell_type": "markdown",
   "metadata": {},
   "source": [
    "# Feature Engineering"
   ]
  },
  {
   "cell_type": "code",
   "execution_count": null,
   "metadata": {},
   "outputs": [],
   "source": [
    "cleaned_df[\"SalesLineTotal\"] = cleaned_df[\"Quantity\"] * cleaned_df[\"Price\"]"
   ]
  },
  {
   "cell_type": "code",
   "execution_count": null,
   "metadata": {},
   "outputs": [],
   "source": [
    "cleaned_df.head(2)"
   ]
  },
  {
   "cell_type": "code",
   "execution_count": null,
   "metadata": {},
   "outputs": [],
   "source": [
    "aggregated_df = cleaned_df.groupby(by=\"Customer ID\", as_index=False) \\\n",
    ".agg(\n",
    "     MonetaryValue = (\"SalesLineTotal\", \"sum\"),\n",
    "     Frequency = (\"Invoice\", \"nunique\"),\n",
    "     LastInvoiceDate = (\"InvoiceDate\", \"max\")\n",
    ")"
   ]
  },
  {
   "cell_type": "code",
   "execution_count": null,
   "metadata": {},
   "outputs": [],
   "source": [
    "aggregated_df[\"LastInvoiceDate\"] = pd.to_datetime(aggregated_df[\"LastInvoiceDate\"])"
   ]
  },
  {
   "cell_type": "code",
   "execution_count": null,
   "metadata": {},
   "outputs": [],
   "source": [
    "max_invoice_date = aggregated_df[\"LastInvoiceDate\"].max()"
   ]
  },
  {
   "cell_type": "code",
   "execution_count": null,
   "metadata": {},
   "outputs": [],
   "source": [
    "max_invoice_date"
   ]
  },
  {
   "cell_type": "code",
   "execution_count": null,
   "metadata": {},
   "outputs": [],
   "source": [
    "aggregated_df[\"Recency\"] = (max_invoice_date - aggregated_df[\"LastInvoiceDate\"]).dt.days"
   ]
  },
  {
   "cell_type": "code",
   "execution_count": null,
   "metadata": {},
   "outputs": [],
   "source": [
    "aggregated_df.head(4)"
   ]
  },
  {
   "cell_type": "markdown",
   "metadata": {},
   "source": [
    "### Distribution Plot"
   ]
  },
  {
   "cell_type": "code",
   "execution_count": null,
   "metadata": {},
   "outputs": [],
   "source": [
    "plt.figure(figsize=(15,5))\n",
    "\n",
    "# Histogram for Monetary value\n",
    "plt.subplot(1,3,1)\n",
    "plt.hist(aggregated_df[\"MonetaryValue\"], bins = 10, color = \"skyblue\", edgecolor = \"black\")\n",
    "plt.title(\"Monetary Value distribution\")\n",
    "plt.xlabel(\"Monetary Value\")\n",
    "plt.ylabel(\"Count\")\n",
    "\n",
    "# Histrogram for Frequecny\n",
    "plt.subplot(1,3,2)\n",
    "plt.hist(aggregated_df[\"Frequency\"], bins = 10, color = \"lightgreen\", edgecolor = \"black\")\n",
    "plt.title(\"Frequency distribution\")\n",
    "plt.xlabel(\"Frequnecy\")\n",
    "plt.ylabel(\"Count\")\n",
    "\n",
    "# Histogram for Recency\n",
    "plt.subplot(1,3,3)\n",
    "plt.hist(aggregated_df[\"Recency\"], bins = 20, color = \"salmon\", edgecolor = \"black\")\n",
    "plt.title(\"Recency distribution\")\n",
    "plt.xlabel(\"Recency Value\")\n",
    "plt.ylabel(\"Count\")\n",
    "\n",
    "plt.tight_layout()\n",
    "plt.show()"
   ]
  },
  {
   "cell_type": "markdown",
   "metadata": {},
   "source": [
    "### Boxplot with Outliers"
   ]
  },
  {
   "cell_type": "code",
   "execution_count": null,
   "metadata": {},
   "outputs": [],
   "source": [
    "plt.figure(figsize=(15,5))\n",
    "\n",
    "# Boxplot for Monetary value\n",
    "plt.subplot(1,3,1)\n",
    "sns.boxplot(data = aggregated_df[\"MonetaryValue\"],color=\"skyblue\")\n",
    "plt.title(\"Monetary Value Boxplot\")\n",
    "plt.xlabel(\"Monetary Value\")\n",
    "\n",
    "# Boxoplot for Frequecny\n",
    "plt.subplot(1,3,2)\n",
    "sns.boxplot(data = aggregated_df[\"Frequency\"], color = \"lightgreen\")\n",
    "plt.title(\"Frequency Boxplot\")\n",
    "plt.xlabel(\"Frequnecy\")\n",
    "\n",
    "# Boxplot for Recency\n",
    "plt.subplot(1,3,3)\n",
    "sns.boxplot(data = aggregated_df[\"Recency\"],color = \"salmon\")\n",
    "plt.title(\"Recency Boxplot\")\n",
    "plt.xlabel(\"Recency\")\n",
    "\n",
    "plt.tight_layout()\n",
    "plt.show()"
   ]
  },
  {
   "cell_type": "markdown",
   "metadata": {},
   "source": [
    "# Removing Outliers"
   ]
  },
  {
   "cell_type": "markdown",
   "metadata": {},
   "source": [
    "### From Monetary Value"
   ]
  },
  {
   "cell_type": "code",
   "execution_count": null,
   "metadata": {},
   "outputs": [],
   "source": [
    "M_Q1 = aggregated_df[\"MonetaryValue\"].quantile(0.25)\n",
    "M_Q3 = aggregated_df[\"MonetaryValue\"].quantile(0.75)\n",
    "M_IQR = M_Q3 - M_Q1\n",
    "\n",
    "monetary_outliers_df = aggregated_df[(aggregated_df[\"MonetaryValue\"] > (M_Q3 + 1.5 * M_IQR)) | (aggregated_df[\"MonetaryValue\"] < (M_Q1 - 1.5 * M_IQR))].copy()\n",
    "\n",
    "monetary_outliers_df.describe()"
   ]
  },
  {
   "cell_type": "markdown",
   "metadata": {},
   "source": [
    "### From Frequency"
   ]
  },
  {
   "cell_type": "code",
   "execution_count": null,
   "metadata": {},
   "outputs": [],
   "source": [
    "F_Q1 = aggregated_df[\"Frequency\"].quantile(0.25)\n",
    "F_Q3 = aggregated_df[\"Frequency\"].quantile(0.75)\n",
    "F_IQR = F_Q3 - F_Q1\n",
    "\n",
    "frequency_outliers_df = aggregated_df[(aggregated_df[\"Frequency\"] > (F_Q3 + 1.5 * F_IQR )) | (aggregated_df[\"Frequency\"] < (F_Q1 - 1.5 * F_IQR))]\n",
    "frequency_outliers_df.describe()"
   ]
  },
  {
   "cell_type": "code",
   "execution_count": null,
   "metadata": {},
   "outputs": [],
   "source": [
    "non_outliers_df = aggregated_df[(~aggregated_df.index.isin(monetary_outliers_df.index)) & (~aggregated_df.index.isin(frequency_outliers_df.index))]\n",
    "non_outliers_df.describe()"
   ]
  },
  {
   "cell_type": "markdown",
   "metadata": {},
   "source": [
    "### Boxplot  without outlier"
   ]
  },
  {
   "cell_type": "code",
   "execution_count": null,
   "metadata": {},
   "outputs": [],
   "source": [
    "plt.figure(figsize=(15,5))\n",
    "\n",
    "# Boxplot for monetary value\n",
    "plt.subplot(1, 3, 1)\n",
    "sns.boxplot(data = non_outliers_df[\"MonetaryValue\"], color=\"skyblue\")\n",
    "plt.title(\"Monetary Value Boxplot\")\n",
    "plt.xlabel(\"Monetary Value\")\n",
    "\n",
    "# Boxplot for frequency\n",
    "plt.subplot(1,3,2)\n",
    "sns.boxplot(data = non_outliers_df[\"Frequency\"], color=\"lightgreen\")\n",
    "plt.title(\"Frequency Boxplot\")\n",
    "plt.xlabel(\"Frequncy\")\n",
    "\n",
    "# Boxplot for recency\n",
    "plt.subplot(1,3,3)\n",
    "sns.boxplot(data = non_outliers_df[\"Recency\"], color=\"salmon\")\n",
    "plt.title(\"Recency Boxplot\")\n",
    "plt.xlabel(\"Recency\")\n",
    "\n",
    "plt.tight_layout()\n",
    "plt.show()\n"
   ]
  },
  {
   "cell_type": "code",
   "execution_count": null,
   "metadata": {},
   "outputs": [],
   "source": [
    "fig = plt.figure(figsize=(8,8))\n",
    "\n",
    "ax = fig.add_subplot(projection=\"3d\")\n",
    "\n",
    "scatter = ax.scatter(non_outliers_df[\"MonetaryValue\"], non_outliers_df[\"Frequency\"], non_outliers_df[\"Recency\"])\n",
    "\n",
    "ax.set_xlabel(\"Monetary Value\")\n",
    "ax.set_ylabel(\"Frequency\")\n",
    "ax.set_zlabel(\"Recency\")\n",
    "\n",
    "ax.set_title(\"3D Scatter Plot of Customer Data\")\n",
    "\n",
    "plt.show()"
   ]
  },
  {
   "cell_type": "code",
   "execution_count": null,
   "metadata": {},
   "outputs": [],
   "source": [
    "scaler = StandardScaler()\n",
    "scaled_data = scaler.fit_transform(non_outliers_df[[\"MonetaryValue\", \"Frequency\", \"Recency\"]])\n",
    "scaled_data"
   ]
  },
  {
   "cell_type": "code",
   "execution_count": null,
   "metadata": {},
   "outputs": [],
   "source": [
    "scaled_data_df = pd.DataFrame(scaled_data, index=non_outliers_df.index, columns= [\"MonetaryValue\", \"Frequency\", \"Recency\"])\n",
    "scaled_data_df.head()"
   ]
  },
  {
   "cell_type": "code",
   "execution_count": null,
   "metadata": {},
   "outputs": [],
   "source": [
    "fig = plt.figure(figsize=(8,8))\n",
    "\n",
    "ax = fig.add_subplot(projection=\"3d\")\n",
    "\n",
    "scatter = ax.scatter(scaled_data_df[\"MonetaryValue\"], scaled_data_df[\"Frequency\"], scaled_data_df[\"Recency\"])\n",
    "\n",
    "ax.set_xlabel(\"Monetary Value\")\n",
    "ax.set_ylabel(\"Frequency\")\n",
    "ax.set_zlabel(\"Recency\")\n",
    "\n",
    "ax.set_title(\"3D Scatter Plot of Customer Data\")\n",
    "\n",
    "plt.show()"
   ]
  },
  {
   "cell_type": "markdown",
   "metadata": {},
   "source": [
    "# KMeans Clustering"
   ]
  },
  {
   "cell_type": "markdown",
   "metadata": {},
   "source": [
    "### K value through elbow method and silhouette score"
   ]
  },
  {
   "cell_type": "code",
   "execution_count": null,
   "metadata": {},
   "outputs": [],
   "source": [
    "max_k = 12\n",
    "\n",
    "inertia = []\n",
    "silhouette_scores = []\n",
    "k_values = range(2, max_k+1)\n",
    "\n",
    "for k in k_values:\n",
    "    kmeans = KMeans(n_clusters=k, random_state=42, max_iter=1000)\n",
    "    \n",
    "    cluster_labels = kmeans.fit_predict(scaled_data_df)\n",
    "    \n",
    "    sil_score = silhouette_score(scaled_data_df, cluster_labels)\n",
    "    \n",
    "    silhouette_scores.append(sil_score)\n",
    "    \n",
    "    inertia.append(kmeans.inertia_)\n",
    "\n",
    "plt.figure(figsize=(14,6))\n",
    "\n",
    "plt.subplot(1,2,1)\n",
    "plt.plot(k_values, inertia, marker = \"o\")\n",
    "plt.title(\"KMeans Inertia for Different Values of k\")\n",
    "plt.xlabel(\"Number of Clusters (k)\")\n",
    "plt.ylabel(\"Inertia\")\n",
    "plt.xticks(k_values)\n",
    "plt.grid(True)\n",
    "\n",
    "plt.subplot(1,2,2)\n",
    "plt.plot(k_values, silhouette_scores, marker = \"o\", color = \"orange\")\n",
    "plt.title(\"Silhouette scores for Different values of k\")\n",
    "plt.xlabel(\"Number of Clusters (k)\")\n",
    "plt.ylabel(\"Silhouette Score\")\n",
    "plt.xticks(k_values)\n",
    "plt.grid(True)\n",
    "\n",
    "plt.tight_layout()\n",
    "plt.show()"
   ]
  },
  {
   "cell_type": "markdown",
   "metadata": {},
   "source": [
    "# Final Model"
   ]
  },
  {
   "cell_type": "code",
   "execution_count": null,
   "metadata": {},
   "outputs": [],
   "source": [
    "kmeans = KMeans(n_clusters=4,random_state=42, max_iter=1000 )\n",
    "\n",
    "cluster_labels = kmeans.fit_predict(scaled_data_df)\n",
    "\n",
    "cluster_labels"
   ]
  },
  {
   "cell_type": "code",
   "execution_count": null,
   "metadata": {},
   "outputs": [],
   "source": [
    "non_outliers_df[\"Cluster\"] = cluster_labels\n",
    "\n",
    "non_outliers_df"
   ]
  },
  {
   "cell_type": "code",
   "execution_count": null,
   "metadata": {},
   "outputs": [],
   "source": [
    "cluster_colors = {0:\"Blue\",\n",
    "                  1:\"Orange\",\n",
    "                  2:\"Green\",\n",
    "                  3:\"Red\"}\n",
    "\n",
    "colors = non_outliers_df[\"Cluster\"].map(cluster_colors)\n",
    "\n",
    "fig = plt.figure(figsize=(10, 10))\n",
    "ax = fig.add_subplot(projection=\"3d\")\n",
    "\n",
    "scatter = ax.scatter(non_outliers_df[\"MonetaryValue\"],\n",
    "                     non_outliers_df[\"Frequency\"],\n",
    "                     non_outliers_df[\"Recency\"],\n",
    "                     c = colors,  # used mapped solid colors\n",
    "                     marker = \"o\")\n",
    "\n",
    "\n",
    "ax.set_xlabel(\"Monetary Value\")\n",
    "ax.set_ylabel(\"Frequency\")\n",
    "ax.set_zlabel(\"Recency\")\n",
    "\n",
    "ax.set_title(\"3D Scatter Plot of Customer Data by Cluster\")\n",
    "\n",
    "plt.show()\n"
   ]
  },
  {
   "cell_type": "markdown",
   "metadata": {},
   "source": [
    "## Violin Plot "
   ]
  },
  {
   "cell_type": "code",
   "execution_count": null,
   "metadata": {},
   "outputs": [],
   "source": [
    "plt.figure(figsize=(12,18))\n",
    "\n",
    "# for Monetary Value\n",
    "plt.subplot(3,1,1)\n",
    "sns.violinplot(x = non_outliers_df[\"Cluster\"], y = non_outliers_df[\"MonetaryValue\"], palette=cluster_colors,hue=non_outliers_df[\"Cluster\"])\n",
    "sns.violinplot(y = non_outliers_df[\"MonetaryValue\"], color='gray', linewidth=1.0)\n",
    "plt.title(\"Monetary Value by Cluster\")\n",
    "plt.ylabel(\"Monetary value\")\n",
    "\n",
    "# for Frequency\n",
    "plt.subplot(3,1,2)\n",
    "sns.violinplot(x = non_outliers_df[\"Cluster\"], y = non_outliers_df[\"Frequency\"], palette=cluster_colors, hue = non_outliers_df[\"Cluster\"])\n",
    "sns.violinplot(y = non_outliers_df[\"Frequency\"], color='gray', linewidth=1.0)\n",
    "plt.title(\"Frequency by Cluster\")\n",
    "plt.ylabel(\"Frequency\")\n",
    "\n",
    "# for Recency\n",
    "plt.subplot(3,1,3)\n",
    "sns.violinplot(x = non_outliers_df[\"Cluster\"], y = non_outliers_df[\"Recency\"], palette=cluster_colors, hue =non_outliers_df[\"Cluster\"])\n",
    "sns.violinplot(y = non_outliers_df[\"Recency\"], color='gray', linewidth=1.0)\n",
    "plt.ylabel(\"Recency\")\n",
    "\n",
    "plt.tight_layout()\n",
    "plt.show()"
   ]
  },
  {
   "cell_type": "markdown",
   "metadata": {},
   "source": [
    "### 1. Cluster 0 (Blue): \"Reward\"\n",
    "\n",
    "##### . Rationale: This cluster represents high value frequent buyers many of whom are still actively purchasing.They are your most loyal customers, and rewarding their loyalty is key to maintaining their engagement.\n",
    "##### . Action: Implement a robust loyalty program, provide exclusive offers and recognize their loyalty to keep them engaged and satisfied.\n",
    "\n",
    "### 2. Cluster 1 (Orange): \"Re-Engage\"\n",
    "\n",
    "##### . Rationale: This group includes lower-value, infrequent buyers who haven't purchased recently. The focus should be on re-engagement to bring them back into active purchaising behavior.\n",
    "##### . Action: Use targeted marketing campaigns, special discounts,or reminders to encourage them to return and purchased.\n",
    "\n",
    "### 3. Cluster 2 (Green): \"Retain\"\n",
    "\n",
    "##### . Rationale: This cluster represents high value customers who purchase regularly, though not always very recently. The focus should be on retention efforts to maintain their loyalty and spending levels.\n",
    "##### . Action: Implement loyalty programs, personalized offers, and regular engagement to ensure they remain active.\n",
    "\n",
    "### 4. Cluster 3 (Red): \"Nurture\"\n",
    "\n",
    "##### . Rationale: This cluster represents the least active and lowest-value customers, but they have made recent purchases.These customers may be new or need nurturing to increase their enagagement and spending.\n",
    "##### . Action: Focus on building relationships,providing excellent customer service and offering incentives to encourage more frequent purchases.\n",
    "\n",
    "### Summary of Clsuter Names:\n",
    "\n",
    "#### . Cluster 0(Blue):\"Reward\"\n",
    "#### . Cluster 1(Orange):\"Re-Engage\"\n",
    "#### . Cluster 2(Green):\"Retain\"\n",
    "#### . Cluster 3(Red):\"Nurture\"\n",
    " "
   ]
  },
  {
   "cell_type": "code",
   "execution_count": null,
   "metadata": {},
   "outputs": [],
   "source": [
    "overlap_indices = monetary_outliers_df.index.intersection(frequency_outliers_df.index)\n",
    "\n",
    "monetary_only_outliers = monetary_outliers_df.drop(overlap_indices)\n",
    "frequency_only_outliers = frequency_outliers_df.drop(overlap_indices)\n",
    "\n",
    "monetary_and_frequency_outliers = monetary_outliers_df.loc[overlap_indices]"
   ]
  },
  {
   "cell_type": "code",
   "execution_count": null,
   "metadata": {},
   "outputs": [],
   "source": [
    "monetary_only_outliers[\"Cluster\"] = -1\n",
    "frequency_only_outliers[\"Cluster\"] = -2\n",
    "monetary_and_frequency_outliers[\"Cluster\"] = -3\n",
    "\n",
    "outlier_clsuters_df = pd.concat([monetary_only_outliers, frequency_only_outliers, monetary_and_frequency_outliers])\n",
    "outlier_clsuters_df"
   ]
  },
  {
   "cell_type": "code",
   "execution_count": null,
   "metadata": {},
   "outputs": [],
   "source": [
    "cluster_colors = {-1:'#9467bd',\n",
    "                  -2:'#8c564b',\n",
    "                  -3:'#e377c2'}\n",
    "\n",
    "plt.figure(figsize=(12,18))\n",
    "\n",
    "plt.figure(figsize=(12,18))\n",
    "\n",
    "# for Monetary Value\n",
    "plt.subplot(3,1,1)\n",
    "sns.violinplot(x = outlier_clsuters_df[\"Cluster\"], y = outlier_clsuters_df[\"MonetaryValue\"], palette=cluster_colors,hue=outlier_clsuters_df[\"Cluster\"])\n",
    "sns.violinplot(y = non_outliers_df[\"MonetaryValue\"], color='gray', linewidth=1.0)\n",
    "plt.title(\"Monetary Value by Cluster\")\n",
    "plt.ylabel(\"Monetary value\")\n",
    "\n",
    "# for Frequency\n",
    "plt.subplot(3,1,2)\n",
    "sns.violinplot(x = outlier_clsuters_df[\"Cluster\"], y = outlier_clsuters_df[\"Frequency\"], palette=cluster_colors, hue = outlier_clsuters_df[\"Cluster\"])\n",
    "sns.violinplot(y = outlier_clsuters_df[\"Frequency\"], color='gray', linewidth=1.0)\n",
    "plt.title(\"Frequency by Cluster\")\n",
    "plt.ylabel(\"Frequency\")\n",
    "\n",
    "# for Recency\n",
    "plt.subplot(3,1,3)\n",
    "sns.violinplot(x = outlier_clsuters_df[\"Cluster\"], y = outlier_clsuters_df[\"Recency\"], palette=cluster_colors, hue =outlier_clsuters_df[\"Cluster\"])\n",
    "sns.violinplot(y = outlier_clsuters_df[\"Recency\"], color='gray', linewidth=1.0)\n",
    "plt.ylabel(\"Recency\")\n",
    "\n",
    "plt.tight_layout()\n",
    "plt.show()\n"
   ]
  },
  {
   "cell_type": "markdown",
   "metadata": {},
   "source": [
    "#### Cluster -1(Monetary Outliers) PAMPER: \n",
    "##### Characteristics: High spenders but not necessarily frequent buyers. Their purchases are large but infrequent . \n",
    "##### Potential Strategy: Focus on maintaining their loyalty with personalized offers or luxury services that cater to their high spending capacity.\n",
    "\n",
    "#### Cluster -2(Frequency Outliers) UPSELL: \n",
    "##### Characteristics: Frequent buyers who spend less per purchase.Thses customers are consistently engaged but might benefit from upselling opportunities . \n",
    "##### Potential Strategy: Implement loyalty programs  or bundle deals to encourage higher spending per visit, given their frequent engagement.\n",
    "\n",
    "#### Cluster -3(Monetary & Frequency Outliers) DELIGHT: \n",
    "##### Characteristics: The most valuable outliers  with extreme spending and frequent purchases.They are likely your top-tier customers who require special attention. \n",
    "##### Potential Strategy: Develop VIP programs or exclusive offers to maintain their loyalty and encourage continued engagemnet."
   ]
  },
  {
   "cell_type": "code",
   "execution_count": null,
   "metadata": {},
   "outputs": [],
   "source": [
    "cluster_labels = {\n",
    "     0 : \"REWARD\",\n",
    "     1 : \"RE-ENGAGE\",\n",
    "     2 : \"RETAIN\",\n",
    "     3 : \"NURTURE\",\n",
    "    -1 : \"PAMPER\",\n",
    "    -2 : \"UPSELL\",\n",
    "    -3 : \"DELIGHT\",\n",
    "}"
   ]
  },
  {
   "cell_type": "code",
   "execution_count": null,
   "metadata": {},
   "outputs": [],
   "source": [
    "full_clustering_df = pd.concat([non_outliers_df, outlier_clsuters_df])\n",
    "full_clustering_df"
   ]
  },
  {
   "cell_type": "code",
   "execution_count": null,
   "metadata": {},
   "outputs": [],
   "source": [
    "full_clustering_df[\"ClusterLabel\"] = full_clustering_df[\"Cluster\"].map(cluster_labels)\n",
    "\n",
    "full_clustering_df"
   ]
  },
  {
   "cell_type": "markdown",
   "metadata": {},
   "source": [
    "# Visualization"
   ]
  },
  {
   "cell_type": "code",
   "execution_count": null,
   "metadata": {},
   "outputs": [],
   "source": [
    "cluster_counts = full_clustering_df[\"ClusterLabel\"].value_counts()\n",
    "full_clustering_df[\"MonetaryValue per 100 pounds\"] = full_clustering_df[\"MonetaryValue\"] / 100.00\n",
    "feature_means = full_clustering_df.groupby(\"ClusterLabel\")[[\"Recency\", \"Frequency\", \"MonetaryValue per 100 pounds\"]].mean()\n",
    "\n",
    "fig, ax1 = plt.subplots(figsize = (12,8))\n",
    "\n",
    "sns.barplot(x = cluster_counts.index, y = cluster_counts.values, ax = ax1, palette=\"viridis\", hue = cluster_counts.index)\n",
    "ax1.set_ylabel(\"Number of Customers\", color = \"b\")\n",
    "ax1.set_title(\"Cluster Distribution with Average Feature Values\")\n",
    "\n",
    "ax2 = ax1.twinx()\n",
    "\n",
    "sns.lineplot(data = feature_means, ax = ax2, palette=\"Set2\", marker = \"o\")\n",
    "ax2.set_ylabel(\"Average Value\", color = \"g\")\n",
    "\n",
    "plt.show()"
   ]
  },
  {
   "cell_type": "code",
   "execution_count": null,
   "metadata": {},
   "outputs": [],
   "source": []
  }
 ],
 "metadata": {
  "kernelspec": {
   "display_name": "Python 3",
   "language": "python",
   "name": "python3"
  },
  "language_info": {
   "codemirror_mode": {
    "name": "ipython",
    "version": 3
   },
   "file_extension": ".py",
   "mimetype": "text/x-python",
   "name": "python",
   "nbconvert_exporter": "python",
   "pygments_lexer": "ipython3",
   "version": "3.12.0"
  }
 },
 "nbformat": 4,
 "nbformat_minor": 2
}
